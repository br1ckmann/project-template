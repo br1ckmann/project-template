{
 "cells": [
  {
   "cell_type": "markdown",
   "metadata": {},
   "source": [
    "This is a dummy notebook.  \n",
    "\n",
    "Leverage the `scripts/example_script.py` for setting up your own notebook."
   ]
  }
 ],
 "metadata": {
  "kernelspec": {
   "display_name": "venv_giftschrank",
   "language": "python",
   "name": "python3"
  },
  "language_info": {
   "name": "python",
   "version": "3.9.16"
  }
 },
 "nbformat": 4,
 "nbformat_minor": 2
}
